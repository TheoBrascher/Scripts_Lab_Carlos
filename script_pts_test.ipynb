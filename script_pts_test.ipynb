{
 "cells": [
  {
   "cell_type": "code",
   "execution_count": 53,
   "id": "acfefabe-48bc-4a10-9e87-81e8fb4ce76f",
   "metadata": {
    "tags": []
   },
   "outputs": [],
   "source": [
    "import re\n",
    "import sys\n",
    "import argparse\n",
    "import os\n",
    "from Bio import SeqIO\n",
    "\n",
    "\n",
    "\n",
    "def generate_combinations():\n",
    "    amoni_acids = ['P', 'T', 'S']\n",
    "    preliminar_data = []\n",
    "\n",
    "    for pos1 in amoni_acids:\n",
    "        for pos2 in amoni_acids:\n",
    "            for pos3 in amoni_acids:\n",
    "                for pos4 in amoni_acids:\n",
    "                    for pos5 in amoni_acids:\n",
    "                        for pos6 in amoni_acids:\n",
    "                            sequence = f\"{pos1}{pos2}{pos3}{pos4}{pos5}{pos6}\"\n",
    "                            preliminar_data.append(sequence)\n",
    "\n",
    "    final_data = []\n",
    "    for seq in preliminar_data:\n",
    "        if seq in final_data:\n",
    "            continue\n",
    "        else:\n",
    "            final_data.append(seq)\n",
    "\n",
    "    return final_data\n",
    "\n",
    "def filter_PTS_sequences(input_fasta, output_fasta, limiar):\n",
    "\n",
    "    pts_sequences = generate_combinations()\n",
    "\n",
    "    filtered_sequences  = []\n",
    "\n",
    "    for fasta in SeqIO.parse(input_fasta, \"fasta\"):\n",
    "\n",
    "        seq = str(fasta.seq).upper()\n",
    "        tam = len(seq)\n",
    "\n",
    "        if tam == 0:\n",
    "            continue\n",
    "\n",
    "        motifs_found = 0\n",
    "\n",
    "        for pts in pts_sequences:\n",
    "\n",
    "            matches = [match.start() for match in re.finditer(pts, seq)]\n",
    "            found = len(matches)\n",
    "            motifs_found += found\n",
    "\n",
    "        if motifs_found >= limiar:\n",
    "            filtered_sequences.append(registro)\n",
    "\n",
    "    if filtered_sequences:\n",
    "        SeqIO.write(filtered_sequences, output_fasta, \"fasta\")\n",
    "\n",
    "    \n",
    "            \n",
    "def main():\n",
    "    parser = argparse.ArgumentParser(description=\"Filtra sequências que possuem 3 ou mais motivos PTS\")\n",
    "    parser.add_argument(\"input_fasta\", help=\"Arquivo FASTA de entrada (.faa ou .fasta)\")\n",
    "    parser.add_argument(\"output_fasta\", help=\"Arquivo FASTA de saída\")\n",
    "    parser.add_argument(\"--limiar\", type=float, default=3, help=\"Quantidade de motivos PTS mínimo para filtar as sequências\")\n",
    "    args = parser.parse_args()\n",
    "\n",
    "    filtrar_sequencias_st(args.input_fasta, args.output_fasta, args.limiar)\n",
    "\n",
    "if __name__ == \"__main__\":\n",
    "    main()"
   ]
  },
  {
   "cell_type": "code",
   "execution_count": 48,
   "id": "addf98b8-097b-43eb-965c-d54b7a743849",
   "metadata": {
    "tags": []
   },
   "outputs": [
    {
     "data": {
      "text/plain": [
       "[]"
      ]
     },
     "execution_count": 48,
     "metadata": {},
     "output_type": "execute_result"
    }
   ],
   "source": []
  },
  {
   "cell_type": "code",
   "execution_count": null,
   "id": "59e59a12-2eb8-41a0-9f5e-4ffd7d421b2e",
   "metadata": {},
   "outputs": [],
   "source": []
  }
 ],
 "metadata": {
  "kernelspec": {
   "display_name": "Python 3 (ipykernel)",
   "language": "python",
   "name": "python3"
  },
  "language_info": {
   "codemirror_mode": {
    "name": "ipython",
    "version": 3
   },
   "file_extension": ".py",
   "mimetype": "text/x-python",
   "name": "python",
   "nbconvert_exporter": "python",
   "pygments_lexer": "ipython3",
   "version": "3.10.12"
  }
 },
 "nbformat": 4,
 "nbformat_minor": 5
}
